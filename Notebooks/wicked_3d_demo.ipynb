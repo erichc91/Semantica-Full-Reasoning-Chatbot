{
 "cells": [
  {
   "cell_type": "code",
   "execution_count": 1,
   "id": "b03a0cab",
   "metadata": {},
   "outputs": [
    {
     "name": "stdout",
     "output_type": "stream",
     "text": [
      "Found 3 graph snapshots.\n"
     ]
    },
    {
     "name": "stderr",
     "output_type": "stream",
     "text": [
      "Processing snapshots:  33%|███▎      | 1/3 [00:02<00:04,  2.23s/it]"
     ]
    },
    {
     "name": "stdout",
     "output_type": "stream",
     "text": [
      "Iteration 1: 9992 nodes, 155079 edges\n"
     ]
    },
    {
     "name": "stderr",
     "output_type": "stream",
     "text": [
      "Processing snapshots:  67%|██████▋   | 2/3 [00:05<00:03,  3.01s/it]"
     ]
    },
    {
     "name": "stdout",
     "output_type": "stream",
     "text": [
      "Iteration 2: 19898 nodes, 222802 edges\n"
     ]
    },
    {
     "name": "stderr",
     "output_type": "stream",
     "text": [
      "Processing snapshots: 100%|██████████| 3/3 [00:11<00:00,  3.68s/it]"
     ]
    },
    {
     "name": "stdout",
     "output_type": "stream",
     "text": [
      "Iteration 3: 29769 nodes, 279422 edges\n"
     ]
    },
    {
     "name": "stderr",
     "output_type": "stream",
     "text": [
      "\n"
     ]
    }
   ],
   "source": [
    "import os\n",
    "import re\n",
    "import networkx as nx\n",
    "import pickle\n",
    "from tqdm import tqdm\n",
    "\n",
    "def list_iteration_snapshots(output_dir, save_prefix, filetype='graphml'):\n",
    "    # List and sort files matching the pattern\n",
    "    pattern = re.compile(rf\"{re.escape(save_prefix)}_iter(\\d+)\\.{filetype}$\")\n",
    "    all_files = [\n",
    "        fname for fname in os.listdir(output_dir)\n",
    "        if pattern.match(fname)\n",
    "    ]\n",
    "    # Sort by iteration number\n",
    "    all_files_sorted = sorted(\n",
    "        all_files,\n",
    "        key=lambda f: int(pattern.match(f).group(1))\n",
    "    )\n",
    "    return [os.path.join(output_dir, fname) for fname in all_files_sorted]\n",
    "\n",
    "def load_graph_snapshot(path):\n",
    "    ext = os.path.splitext(path)[1]\n",
    "    if ext == '.graphml':\n",
    "        return nx.read_graphml(path)\n",
    "    elif ext in ('.pkl', '.pickle'):\n",
    "        with open(path, 'rb') as f:\n",
    "            return pickle.load(f)\n",
    "    else:\n",
    "        raise ValueError(\"Unknown graph file format: \" + ext)\n",
    "\n",
    "# --- EXAMPLE USAGE ---\n",
    "output_dir = os.path.join('..', 'Data', 'Output')\n",
    "save_prefix = 'nx_semantic'  # Adjust to your actual prefix!\n",
    "filetype = 'graphml'         # Or 'pkl' as needed\n",
    "\n",
    "snapshot_files = list_iteration_snapshots(output_dir, save_prefix, filetype)\n",
    "print(f\"Found {len(snapshot_files)} graph snapshots.\")\n",
    "\n",
    "# Load each snapshot, analyze or visualize as needed\n",
    "for i, snap_path in enumerate(tqdm(snapshot_files, desc=\"Processing snapshots\")):\n",
    "    G = load_graph_snapshot(snap_path)\n",
    "    # ...do your visualization/export/animation here!\n",
    "    print(f\"Iteration {i+1}: {G.number_of_nodes()} nodes, {G.number_of_edges()} edges\")\n"
   ]
  },
  {
   "cell_type": "code",
   "execution_count": 2,
   "id": "83a56340",
   "metadata": {},
   "outputs": [
    {
     "name": "stdout",
     "output_type": "stream",
     "text": [
      "Found 3 graph snapshots.\n"
     ]
    },
    {
     "name": "stderr",
     "output_type": "stream",
     "text": [
      "Exporting JSON frames for Three.js:   0%|          | 0/3 [01:32<?, ?it/s]\n"
     ]
    },
    {
     "ename": "KeyboardInterrupt",
     "evalue": "",
     "output_type": "error",
     "traceback": [
      "\u001b[31m---------------------------------------------------------------------------\u001b[39m",
      "\u001b[31mKeyboardInterrupt\u001b[39m                         Traceback (most recent call last)",
      "\u001b[36mCell\u001b[39m\u001b[36m \u001b[39m\u001b[32mIn[2]\u001b[39m\u001b[32m, line 64\u001b[39m\n\u001b[32m     62\u001b[39m \u001b[38;5;28;01mfor\u001b[39;00m i, snap_path \u001b[38;5;129;01min\u001b[39;00m \u001b[38;5;28menumerate\u001b[39m(tqdm(snapshot_files, desc=\u001b[33m\"\u001b[39m\u001b[33mExporting JSON frames for Three.js\u001b[39m\u001b[33m\"\u001b[39m)):\n\u001b[32m     63\u001b[39m     G = load_graph_snapshot(snap_path)\n\u001b[32m---> \u001b[39m\u001b[32m64\u001b[39m     pos = \u001b[43mcompute_3d_layout\u001b[49m\u001b[43m(\u001b[49m\u001b[43mG\u001b[49m\u001b[43m)\u001b[49m\n\u001b[32m     65\u001b[39m     cluster_labels = get_communities(G)\n\u001b[32m     66\u001b[39m     jsdata = graph_to_threejs_json(G, pos, frame_idx=i, cluster_labels=cluster_labels)\n",
      "\u001b[36mCell\u001b[39m\u001b[36m \u001b[39m\u001b[32mIn[2]\u001b[39m\u001b[32m, line 9\u001b[39m, in \u001b[36mcompute_3d_layout\u001b[39m\u001b[34m(G, seed)\u001b[39m\n\u001b[32m      7\u001b[39m \u001b[38;5;28;01mdef\u001b[39;00m\u001b[38;5;250m \u001b[39m\u001b[34mcompute_3d_layout\u001b[39m(G, seed=\u001b[32m42\u001b[39m):\n\u001b[32m      8\u001b[39m \u001b[38;5;250m    \u001b[39m\u001b[33;03m\"\"\"Compute a 3D force-directed layout for the graph, returns dict[node] = (x,y,z).\"\"\"\u001b[39;00m\n\u001b[32m----> \u001b[39m\u001b[32m9\u001b[39m     pos_2d = \u001b[43mnx\u001b[49m\u001b[43m.\u001b[49m\u001b[43mspring_layout\u001b[49m\u001b[43m(\u001b[49m\u001b[43mG\u001b[49m\u001b[43m,\u001b[49m\u001b[43m \u001b[49m\u001b[43mdim\u001b[49m\u001b[43m=\u001b[49m\u001b[32;43m3\u001b[39;49m\u001b[43m,\u001b[49m\u001b[43m \u001b[49m\u001b[43mseed\u001b[49m\u001b[43m=\u001b[49m\u001b[43mseed\u001b[49m\u001b[43m)\u001b[49m  \u001b[38;5;66;03m# 3D spring layout\u001b[39;00m\n\u001b[32m     10\u001b[39m     \u001b[38;5;28;01mreturn\u001b[39;00m pos_2d\n",
      "\u001b[36mFile \u001b[39m\u001b[32mc:\\Users\\Erich Curtis\\Desktop\\All Python\\Semantica-Full-Reasoning-Chatbot\\.venv\\Lib\\site-packages\\networkx\\utils\\decorators.py:788\u001b[39m, in \u001b[36margmap.__call__.<locals>.func\u001b[39m\u001b[34m(_argmap__wrapper, *args, **kwargs)\u001b[39m\n\u001b[32m    787\u001b[39m \u001b[38;5;28;01mdef\u001b[39;00m\u001b[38;5;250m \u001b[39m\u001b[34mfunc\u001b[39m(*args, __wrapper=\u001b[38;5;28;01mNone\u001b[39;00m, **kwargs):\n\u001b[32m--> \u001b[39m\u001b[32m788\u001b[39m     \u001b[38;5;28;01mreturn\u001b[39;00m \u001b[43margmap\u001b[49m\u001b[43m.\u001b[49m\u001b[43m_lazy_compile\u001b[49m\u001b[43m(\u001b[49m\u001b[43m__wrapper\u001b[49m\u001b[43m)\u001b[49m\u001b[43m(\u001b[49m\u001b[43m*\u001b[49m\u001b[43margs\u001b[49m\u001b[43m,\u001b[49m\u001b[43m \u001b[49m\u001b[43m*\u001b[49m\u001b[43m*\u001b[49m\u001b[43mkwargs\u001b[49m\u001b[43m)\u001b[49m\n",
      "\u001b[36mFile \u001b[39m\u001b[32m<class 'networkx.utils.decorators.argmap'> compilation 10:4\u001b[39m, in \u001b[36margmap_spring_layout_7\u001b[39m\u001b[34m(G, k, pos, fixed, iterations, threshold, weight, scale, center, dim, seed)\u001b[39m\n\u001b[32m      2\u001b[39m \u001b[38;5;28;01mimport\u001b[39;00m\u001b[38;5;250m \u001b[39m\u001b[34;01mcollections\u001b[39;00m\n\u001b[32m      3\u001b[39m \u001b[38;5;28;01mimport\u001b[39;00m\u001b[38;5;250m \u001b[39m\u001b[34;01mgzip\u001b[39;00m\n\u001b[32m----> \u001b[39m\u001b[32m4\u001b[39m \u001b[38;5;28;01mimport\u001b[39;00m\u001b[38;5;250m \u001b[39m\u001b[34;01minspect\u001b[39;00m\n\u001b[32m      5\u001b[39m \u001b[38;5;28;01mimport\u001b[39;00m\u001b[38;5;250m \u001b[39m\u001b[34;01mitertools\u001b[39;00m\n\u001b[32m      6\u001b[39m \u001b[38;5;28;01mimport\u001b[39;00m\u001b[38;5;250m \u001b[39m\u001b[34;01mre\u001b[39;00m\n",
      "\u001b[36mFile \u001b[39m\u001b[32mc:\\Users\\Erich Curtis\\Desktop\\All Python\\Semantica-Full-Reasoning-Chatbot\\.venv\\Lib\\site-packages\\networkx\\drawing\\layout.py:486\u001b[39m, in \u001b[36mspring_layout\u001b[39m\u001b[34m(G, k, pos, fixed, iterations, threshold, weight, scale, center, dim, seed)\u001b[39m\n\u001b[32m    484\u001b[39m         nnodes, _ = A.shape\n\u001b[32m    485\u001b[39m         k = dom_size / np.sqrt(nnodes)\n\u001b[32m--> \u001b[39m\u001b[32m486\u001b[39m     pos = \u001b[43m_sparse_fruchterman_reingold\u001b[49m\u001b[43m(\u001b[49m\n\u001b[32m    487\u001b[39m \u001b[43m        \u001b[49m\u001b[43mA\u001b[49m\u001b[43m,\u001b[49m\u001b[43m \u001b[49m\u001b[43mk\u001b[49m\u001b[43m,\u001b[49m\u001b[43m \u001b[49m\u001b[43mpos_arr\u001b[49m\u001b[43m,\u001b[49m\u001b[43m \u001b[49m\u001b[43mfixed\u001b[49m\u001b[43m,\u001b[49m\u001b[43m \u001b[49m\u001b[43miterations\u001b[49m\u001b[43m,\u001b[49m\u001b[43m \u001b[49m\u001b[43mthreshold\u001b[49m\u001b[43m,\u001b[49m\u001b[43m \u001b[49m\u001b[43mdim\u001b[49m\u001b[43m,\u001b[49m\u001b[43m \u001b[49m\u001b[43mseed\u001b[49m\n\u001b[32m    488\u001b[39m \u001b[43m    \u001b[49m\u001b[43m)\u001b[49m\n\u001b[32m    489\u001b[39m \u001b[38;5;28;01mexcept\u001b[39;00m \u001b[38;5;167;01mValueError\u001b[39;00m:\n\u001b[32m    490\u001b[39m     A = nx.to_numpy_array(G, weight=weight)\n",
      "\u001b[36mFile \u001b[39m\u001b[32mc:\\Users\\Erich Curtis\\Desktop\\All Python\\Semantica-Full-Reasoning-Chatbot\\.venv\\Lib\\site-packages\\networkx\\utils\\decorators.py:788\u001b[39m, in \u001b[36margmap.__call__.<locals>.func\u001b[39m\u001b[34m(_argmap__wrapper, *args, **kwargs)\u001b[39m\n\u001b[32m    787\u001b[39m \u001b[38;5;28;01mdef\u001b[39;00m\u001b[38;5;250m \u001b[39m\u001b[34mfunc\u001b[39m(*args, __wrapper=\u001b[38;5;28;01mNone\u001b[39;00m, **kwargs):\n\u001b[32m--> \u001b[39m\u001b[32m788\u001b[39m     \u001b[38;5;28;01mreturn\u001b[39;00m \u001b[43margmap\u001b[49m\u001b[43m.\u001b[49m\u001b[43m_lazy_compile\u001b[49m\u001b[43m(\u001b[49m\u001b[43m__wrapper\u001b[49m\u001b[43m)\u001b[49m\u001b[43m(\u001b[49m\u001b[43m*\u001b[49m\u001b[43margs\u001b[49m\u001b[43m,\u001b[49m\u001b[43m \u001b[49m\u001b[43m*\u001b[49m\u001b[43m*\u001b[49m\u001b[43mkwargs\u001b[49m\u001b[43m)\u001b[49m\n",
      "\u001b[36mFile \u001b[39m\u001b[32m<class 'networkx.utils.decorators.argmap'> compilation 18:4\u001b[39m, in \u001b[36margmap__sparse_fruchterman_reingold_15\u001b[39m\u001b[34m(A, k, pos, fixed, iterations, threshold, dim, seed)\u001b[39m\n\u001b[32m      2\u001b[39m \u001b[38;5;28;01mimport\u001b[39;00m\u001b[38;5;250m \u001b[39m\u001b[34;01mcollections\u001b[39;00m\n\u001b[32m      3\u001b[39m \u001b[38;5;28;01mimport\u001b[39;00m\u001b[38;5;250m \u001b[39m\u001b[34;01mgzip\u001b[39;00m\n\u001b[32m----> \u001b[39m\u001b[32m4\u001b[39m \u001b[38;5;28;01mimport\u001b[39;00m\u001b[38;5;250m \u001b[39m\u001b[34;01minspect\u001b[39;00m\n\u001b[32m      5\u001b[39m \u001b[38;5;28;01mimport\u001b[39;00m\u001b[38;5;250m \u001b[39m\u001b[34;01mitertools\u001b[39;00m\n\u001b[32m      6\u001b[39m \u001b[38;5;28;01mimport\u001b[39;00m\u001b[38;5;250m \u001b[39m\u001b[34;01mre\u001b[39;00m\n",
      "\u001b[36mFile \u001b[39m\u001b[32mc:\\Users\\Erich Curtis\\Desktop\\All Python\\Semantica-Full-Reasoning-Chatbot\\.venv\\Lib\\site-packages\\networkx\\drawing\\layout.py:629\u001b[39m, in \u001b[36m_sparse_fruchterman_reingold\u001b[39m\u001b[34m(A, k, pos, fixed, iterations, threshold, dim, seed)\u001b[39m\n\u001b[32m    625\u001b[39m     Ai = A.getrowview(i).toarray()  \u001b[38;5;66;03m# TODO: revisit w/ sparse 1D container\u001b[39;00m\n\u001b[32m    626\u001b[39m     \u001b[38;5;66;03m# displacement \"force\"\u001b[39;00m\n\u001b[32m    627\u001b[39m     displacement[:, i] += \u001b[43m(\u001b[49m\n\u001b[32m    628\u001b[39m \u001b[43m        \u001b[49m\u001b[43mdelta\u001b[49m\u001b[43m \u001b[49m\u001b[43m*\u001b[49m\u001b[43m \u001b[49m\u001b[43m(\u001b[49m\u001b[43mk\u001b[49m\u001b[43m \u001b[49m\u001b[43m*\u001b[49m\u001b[43m \u001b[49m\u001b[43mk\u001b[49m\u001b[43m \u001b[49m\u001b[43m/\u001b[49m\u001b[43m \u001b[49m\u001b[43mdistance\u001b[49m\u001b[43m*\u001b[49m\u001b[43m*\u001b[49m\u001b[32;43m2\u001b[39;49m\u001b[43m \u001b[49m\u001b[43m-\u001b[49m\u001b[43m \u001b[49m\u001b[43mAi\u001b[49m\u001b[43m \u001b[49m\u001b[43m*\u001b[49m\u001b[43m \u001b[49m\u001b[43mdistance\u001b[49m\u001b[43m \u001b[49m\u001b[43m/\u001b[49m\u001b[43m \u001b[49m\u001b[43mk\u001b[49m\u001b[43m)\u001b[49m\n\u001b[32m--> \u001b[39m\u001b[32m629\u001b[39m \u001b[43m    \u001b[49m\u001b[43m)\u001b[49m\u001b[43m.\u001b[49m\u001b[43msum\u001b[49m\u001b[43m(\u001b[49m\u001b[43maxis\u001b[49m\u001b[43m=\u001b[49m\u001b[32;43m1\u001b[39;49m\u001b[43m)\u001b[49m\n\u001b[32m    630\u001b[39m \u001b[38;5;66;03m# update positions\u001b[39;00m\n\u001b[32m    631\u001b[39m length = np.sqrt((displacement**\u001b[32m2\u001b[39m).sum(axis=\u001b[32m0\u001b[39m))\n",
      "\u001b[36mFile \u001b[39m\u001b[32mc:\\Users\\Erich Curtis\\Desktop\\All Python\\Semantica-Full-Reasoning-Chatbot\\.venv\\Lib\\site-packages\\numpy\\_core\\_methods.py:50\u001b[39m, in \u001b[36m_sum\u001b[39m\u001b[34m(a, axis, dtype, out, keepdims, initial, where)\u001b[39m\n\u001b[32m     46\u001b[39m \u001b[38;5;28;01mdef\u001b[39;00m\u001b[38;5;250m \u001b[39m\u001b[34m_amin\u001b[39m(a, axis=\u001b[38;5;28;01mNone\u001b[39;00m, out=\u001b[38;5;28;01mNone\u001b[39;00m, keepdims=\u001b[38;5;28;01mFalse\u001b[39;00m,\n\u001b[32m     47\u001b[39m           initial=_NoValue, where=\u001b[38;5;28;01mTrue\u001b[39;00m):\n\u001b[32m     48\u001b[39m     \u001b[38;5;28;01mreturn\u001b[39;00m umr_minimum(a, axis, \u001b[38;5;28;01mNone\u001b[39;00m, out, keepdims, initial, where)\n\u001b[32m---> \u001b[39m\u001b[32m50\u001b[39m \u001b[38;5;28;01mdef\u001b[39;00m\u001b[38;5;250m \u001b[39m\u001b[34m_sum\u001b[39m(a, axis=\u001b[38;5;28;01mNone\u001b[39;00m, dtype=\u001b[38;5;28;01mNone\u001b[39;00m, out=\u001b[38;5;28;01mNone\u001b[39;00m, keepdims=\u001b[38;5;28;01mFalse\u001b[39;00m,\n\u001b[32m     51\u001b[39m          initial=_NoValue, where=\u001b[38;5;28;01mTrue\u001b[39;00m):\n\u001b[32m     52\u001b[39m     \u001b[38;5;28;01mreturn\u001b[39;00m umr_sum(a, axis, dtype, out, keepdims, initial, where)\n\u001b[32m     54\u001b[39m \u001b[38;5;28;01mdef\u001b[39;00m\u001b[38;5;250m \u001b[39m\u001b[34m_prod\u001b[39m(a, axis=\u001b[38;5;28;01mNone\u001b[39;00m, dtype=\u001b[38;5;28;01mNone\u001b[39;00m, out=\u001b[38;5;28;01mNone\u001b[39;00m, keepdims=\u001b[38;5;28;01mFalse\u001b[39;00m,\n\u001b[32m     55\u001b[39m           initial=_NoValue, where=\u001b[38;5;28;01mTrue\u001b[39;00m):\n",
      "\u001b[31mKeyboardInterrupt\u001b[39m: "
     ]
    }
   ],
   "source": [
    "import os\n",
    "import json\n",
    "import networkx as nx\n",
    "import numpy as np\n",
    "from tqdm import tqdm\n",
    "\n",
    "def compute_3d_layout(G, seed=42):\n",
    "    \"\"\"Compute a 3D force-directed layout for the graph, returns dict[node] = (x,y,z).\"\"\"\n",
    "    pos_2d = nx.spring_layout(G, dim=3, seed=seed)  # 3D spring layout\n",
    "    return pos_2d\n",
    "\n",
    "def graph_to_threejs_json(G, pos, frame_idx=0, cluster_labels=None, max_neighbors=10):\n",
    "    \"\"\"Convert a graph and positions to a Three.js-ready JSON structure.\"\"\"\n",
    "    nodes = []\n",
    "    node_id_map = {n: idx for idx, n in enumerate(G.nodes())}\n",
    "    for n, data in G.nodes(data=True):\n",
    "        degree = G.degree(n)\n",
    "        cluster = int(cluster_labels[n]) if cluster_labels else 0\n",
    "        nodes.append({\n",
    "            \"id\": node_id_map[n],\n",
    "            \"name\": str(n),\n",
    "            \"x\": float(pos[n][0]),\n",
    "            \"y\": float(pos[n][1]),\n",
    "            \"z\": float(pos[n][2]),\n",
    "            \"degree\": degree,\n",
    "            \"cluster\": cluster\n",
    "        })\n",
    "    # Only include up to max_neighbors edges per node for performance\n",
    "    edges = []\n",
    "    for n1, n2, data in G.edges(data=True):\n",
    "        if node_id_map[n1] < node_id_map[n2]:  # Avoid double-edges\n",
    "            edges.append({\n",
    "                \"source\": node_id_map[n1],\n",
    "                \"target\": node_id_map[n2]\n",
    "            })\n",
    "    return {\n",
    "        \"frame\": frame_idx,\n",
    "        \"nodes\": nodes,\n",
    "        \"edges\": edges\n",
    "    }\n",
    "\n",
    "# --- PARAMETERS ---\n",
    "output_dir = os.path.join('..', 'Data', 'Output')\n",
    "save_prefix = 'nx_semantic'  # Adjust as needed\n",
    "filetype = 'graphml'\n",
    "json_out_dir = './threejs_snapshots'\n",
    "os.makedirs(json_out_dir, exist_ok=True)\n",
    "\n",
    "snapshot_files = list_iteration_snapshots(output_dir, save_prefix, filetype)\n",
    "print(f\"Found {len(snapshot_files)} graph snapshots.\")\n",
    "\n",
    "# OPTIONAL: For cluster coloring, you could use networkx community detection per frame.\n",
    "def get_communities(G):\n",
    "    # Fast, simple Louvain community detection (install python-louvain if needed)\n",
    "    try:\n",
    "        import community as community_louvain\n",
    "        part = community_louvain.best_partition(G.to_undirected())\n",
    "    except ImportError:\n",
    "        part = {n: 0 for n in G.nodes()}\n",
    "    return part\n",
    "\n",
    "for i, snap_path in enumerate(tqdm(snapshot_files, desc=\"Exporting JSON frames for Three.js\")):\n",
    "    G = load_graph_snapshot(snap_path)\n",
    "    pos = compute_3d_layout(G)\n",
    "    cluster_labels = get_communities(G)\n",
    "    jsdata = graph_to_threejs_json(G, pos, frame_idx=i, cluster_labels=cluster_labels)\n",
    "    # Write to file for browser use\n",
    "    json_path = os.path.join(json_out_dir, f\"frame_{i:02d}.json\")\n",
    "    with open(json_path, \"w\") as f:\n",
    "        json.dump(jsdata, f)\n",
    "    print(f\"Frame {i}: {len(G.nodes())} nodes, {len(G.edges())} edges → {json_path}\")\n"
   ]
  },
  {
   "cell_type": "code",
   "execution_count": null,
   "id": "9b613972",
   "metadata": {
    "vscode": {
     "languageId": "html"
    }
   },
   "outputs": [],
   "source": [
    "<!DOCTYPE html>\n",
    "<html lang=\"en\">\n",
    "<head>\n",
    "    <meta charset=\"UTF-8\">\n",
    "    <title>Semantic Graph Evolution</title>\n",
    "    <script src=\"https://cdnjs.cloudflare.com/ajax/libs/three.js/r128/three.min.js\"></script>\n",
    "    <style>\n",
    "        body { margin: 0; background: #111; overflow: hidden; color: #fff; }\n",
    "        #controls { position: fixed; top: 20px; left: 20px; z-index: 1000; }\n",
    "        #frameLabel { font-size: 1.4em; margin-left: 8px; }\n",
    "    </style>\n",
    "</head>\n",
    "<body>\n",
    "    <div id=\"controls\">\n",
    "        <button onclick=\"prevFrame()\">⏮️ Prev</button>\n",
    "        <button onclick=\"nextFrame()\">Next ⏭️</button>\n",
    "        <span id=\"frameLabel\">Frame: 0</span>\n",
    "    </div>\n",
    "    <canvas id=\"canvas\"></canvas>\n",
    "    <script>\n",
    "        let frames = [];\n",
    "        let currentFrame = 0;\n",
    "        let scene, camera, renderer, nodeObjects = [], edgeObjects = [];\n",
    "        const maxFrames = 20;  // update after loading files\n",
    "\n",
    "        // Load all JSON frames\n",
    "        async function loadAllFrames() {\n",
    "            let loaded = 0;\n",
    "            while (true) {\n",
    "                let fname = `threejs_snapshots/frame_${String(loaded).padStart(2,'0')}.json`;\n",
    "                try {\n",
    "                    let resp = await fetch(fname);\n",
    "                    if (!resp.ok) break;\n",
    "                    let data = await resp.json();\n",
    "                    frames.push(data);\n",
    "                    loaded++;\n",
    "                } catch (e) { break; }\n",
    "            }\n",
    "            document.getElementById('frameLabel').textContent = `Frame: 0/${frames.length-1}`;\n",
    "            if (frames.length > 0) showFrame(0);\n",
    "        }\n",
    "\n",
    "        // Initialize Three.js scene\n",
    "        function initThree() {\n",
    "            scene = new THREE.Scene();\n",
    "            camera = new THREE.PerspectiveCamera(75, window.innerWidth/window.innerHeight, 0.1, 2000);\n",
    "            camera.position.set(0, 0, 400);\n",
    "            renderer = new THREE.WebGLRenderer({canvas: document.getElementById('canvas'), antialias: true});\n",
    "            renderer.setSize(window.innerWidth, window.innerHeight);\n",
    "            renderer.setClearColor(0x111111);\n",
    "            animate();\n",
    "        }\n",
    "        function animate() {\n",
    "            requestAnimationFrame(animate);\n",
    "            renderer.render(scene, camera);\n",
    "        }\n",
    "\n",
    "        // Draw the current frame's nodes/edges\n",
    "        function showFrame(idx) {\n",
    "            // Clear previous objects\n",
    "            nodeObjects.forEach(o => scene.remove(o));\n",
    "            edgeObjects.forEach(o => scene.remove(o));\n",
    "            nodeObjects = [];\n",
    "            edgeObjects = [];\n",
    "            if (idx < 0 || idx >= frames.length) return;\n",
    "            const f = frames[idx];\n",
    "            // Draw edges\n",
    "            f.edges.forEach(e => {\n",
    "                let src = f.nodes[e.source], tgt = f.nodes[e.target];\n",
    "                let material = new THREE.LineBasicMaterial({ color: 0x888888 });\n",
    "                let geom = new THREE.BufferGeometry().setFromPoints([\n",
    "                    new THREE.Vector3(src.x, src.y, src.z),\n",
    "                    new THREE.Vector3(tgt.x, tgt.y, tgt.z)\n",
    "                ]);\n",
    "                let line = new THREE.Line(geom, material);\n",
    "                edgeObjects.push(line); scene.add(line);\n",
    "            });\n",
    "            // Draw nodes (colored by cluster)\n",
    "            const palette = [0xffd700, 0x1e90ff, 0xa020f0, 0x32cd32, 0xff69b4, 0xff4500, 0x00fa9a, 0xb22222, 0x4682b4, 0x20b2aa];\n",
    "            f.nodes.forEach(n => {\n",
    "                let color = palette[n.cluster % palette.length];\n",
    "                let mat = new THREE.MeshBasicMaterial({ color });\n",
    "                let geom = new THREE.SphereGeometry(2 + Math.log2(n.degree+1), 16, 16);\n",
    "                let mesh = new THREE.Mesh(geom, mat);\n",
    "                mesh.position.set(n.x, n.y, n.z);\n",
    "                nodeObjects.push(mesh); scene.add(mesh);\n",
    "            });\n",
    "            currentFrame = idx;\n",
    "            document.getElementById('frameLabel').textContent = `Frame: ${idx}/${frames.length-1}`;\n",
    "        }\n",
    "        function prevFrame() { if (currentFrame > 0) showFrame(currentFrame - 1); }\n",
    "        function nextFrame() { if (currentFrame < frames.length - 1) showFrame(currentFrame + 1); }\n",
    "\n",
    "        window.addEventListener('resize', () => {\n",
    "            camera.aspect = window.innerWidth / window.innerHeight;\n",
    "            camera.updateProjectionMatrix();\n",
    "            renderer.setSize(window.innerWidth, window.innerHeight);\n",
    "        });\n",
    "\n",
    "        // Initialize!\n",
    "        initThree();\n",
    "        loadAllFrames();\n",
    "    </script>\n",
    "</body>\n",
    "</html>"
   ]
  },
  {
   "cell_type": "code",
   "execution_count": null,
   "id": "0042ba2d",
   "metadata": {},
   "outputs": [],
   "source": []
  }
 ],
 "metadata": {
  "kernelspec": {
   "display_name": ".venv",
   "language": "python",
   "name": "python3"
  },
  "language_info": {
   "codemirror_mode": {
    "name": "ipython",
    "version": 3
   },
   "file_extension": ".py",
   "mimetype": "text/x-python",
   "name": "python",
   "nbconvert_exporter": "python",
   "pygments_lexer": "ipython3",
   "version": "3.13.3"
  }
 },
 "nbformat": 4,
 "nbformat_minor": 5
}
