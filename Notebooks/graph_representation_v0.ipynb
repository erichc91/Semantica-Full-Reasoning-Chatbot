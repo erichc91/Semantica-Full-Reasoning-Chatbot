{
 "cells": [
  {
   "cell_type": "markdown",
   "id": "5d047a09",
   "metadata": {},
   "source": [
    "# Libraries"
   ]
  },
  {
   "cell_type": "code",
   "execution_count": 4,
   "id": "384872fa",
   "metadata": {},
   "outputs": [],
   "source": [
    "import pandas as pd\n",
    "import numpy as np\n",
    "import os\n",
    "import sys"
   ]
  },
  {
   "cell_type": "markdown",
   "id": "ae455181",
   "metadata": {},
   "source": [
    "# Inputs"
   ]
  },
  {
   "cell_type": "code",
   "execution_count": null,
   "id": "ae8d48f6",
   "metadata": {},
   "outputs": [],
   "source": [
    "EN_PATH = '../Data/Input/conceptnet_en_full.csv'"
   ]
  },
  {
   "cell_type": "markdown",
   "id": "7395bdfc",
   "metadata": {},
   "source": [
    "# Purpose\n",
    "***\n",
    "\n",
    "Allow an agent to interact with the full relation universe and create a full knowledge graph."
   ]
  },
  {
   "cell_type": "markdown",
   "id": "79b5c234",
   "metadata": {},
   "source": [
    "### Phase 1. \n",
    "***\n",
    "Load the english triples"
   ]
  },
  {
   "cell_type": "code",
   "execution_count": 7,
   "id": "da087dfd",
   "metadata": {},
   "outputs": [
    {
     "data": {
      "application/vnd.microsoft.datawrangler.viewer.v0+json": {
       "columns": [
        {
         "name": "index",
         "rawType": "int64",
         "type": "integer"
        },
        {
         "name": "uri",
         "rawType": "object",
         "type": "string"
        },
        {
         "name": "relation",
         "rawType": "object",
         "type": "string"
        },
        {
         "name": "start",
         "rawType": "object",
         "type": "string"
        },
        {
         "name": "end",
         "rawType": "object",
         "type": "string"
        },
        {
         "name": "weight",
         "rawType": "object",
         "type": "string"
        },
        {
         "name": "dataset",
         "rawType": "float64",
         "type": "float"
        },
        {
         "name": "sources",
         "rawType": "float64",
         "type": "float"
        },
        {
         "name": "surfaceText",
         "rawType": "float64",
         "type": "float"
        },
        {
         "name": "license",
         "rawType": "float64",
         "type": "float"
        },
        {
         "name": "context",
         "rawType": "float64",
         "type": "float"
        }
       ],
       "ref": "ad0aebef-1fff-4e39-845c-bfa0194aa3a0",
       "rows": [
        [
         "0",
         "/a/[/r/Antonym/,/c/en/0/n/,/c/en/1/]",
         "/r/Antonym",
         "/c/en/0/n",
         "/c/en/1",
         "{\"dataset\": \"/d/wiktionary/fr\", \"license\": \"cc:by-sa/4.0\", \"sources\": [{\"contributor\": \"/s/resource/wiktionary/fr\", \"process\": \"/s/process/wikiparsec/2\"}], \"weight\": 1.0}",
         null,
         null,
         null,
         null,
         null
        ],
        [
         "1",
         "/a/[/r/Antonym/,/c/en/12_hour_clock/n/,/c/en/24_hour_clock/]",
         "/r/Antonym",
         "/c/en/12_hour_clock/n",
         "/c/en/24_hour_clock",
         "{\"dataset\": \"/d/wiktionary/en\", \"license\": \"cc:by-sa/4.0\", \"sources\": [{\"contributor\": \"/s/resource/wiktionary/en\", \"process\": \"/s/process/wikiparsec/2\"}], \"weight\": 1.0}",
         null,
         null,
         null,
         null,
         null
        ],
        [
         "2",
         "/a/[/r/Antonym/,/c/en/24_hour_clock/n/,/c/en/12_hour_clock/]",
         "/r/Antonym",
         "/c/en/24_hour_clock/n",
         "/c/en/12_hour_clock",
         "{\"dataset\": \"/d/wiktionary/en\", \"license\": \"cc:by-sa/4.0\", \"sources\": [{\"contributor\": \"/s/resource/wiktionary/en\", \"process\": \"/s/process/wikiparsec/2\"}], \"weight\": 1.0}",
         null,
         null,
         null,
         null,
         null
        ],
        [
         "3",
         "/a/[/r/Antonym/,/c/en/5/n/,/c/en/3/]",
         "/r/Antonym",
         "/c/en/5/n",
         "/c/en/3",
         "{\"dataset\": \"/d/wiktionary/en\", \"license\": \"cc:by-sa/4.0\", \"sources\": [{\"contributor\": \"/s/resource/wiktionary/en\", \"process\": \"/s/process/wikiparsec/2\"}], \"weight\": 1.0}",
         null,
         null,
         null,
         null,
         null
        ],
        [
         "4",
         "/a/[/r/Antonym/,/c/en/a.c/n/,/c/en/d.c/]",
         "/r/Antonym",
         "/c/en/a.c/n",
         "/c/en/d.c",
         "{\"dataset\": \"/d/wiktionary/fr\", \"license\": \"cc:by-sa/4.0\", \"sources\": [{\"contributor\": \"/s/resource/wiktionary/fr\", \"process\": \"/s/process/wikiparsec/2\"}], \"weight\": 1.0}",
         null,
         null,
         null,
         null,
         null
        ]
       ],
       "shape": {
        "columns": 10,
        "rows": 5
       }
      },
      "text/html": [
       "<div>\n",
       "<style scoped>\n",
       "    .dataframe tbody tr th:only-of-type {\n",
       "        vertical-align: middle;\n",
       "    }\n",
       "\n",
       "    .dataframe tbody tr th {\n",
       "        vertical-align: top;\n",
       "    }\n",
       "\n",
       "    .dataframe thead th {\n",
       "        text-align: right;\n",
       "    }\n",
       "</style>\n",
       "<table border=\"1\" class=\"dataframe\">\n",
       "  <thead>\n",
       "    <tr style=\"text-align: right;\">\n",
       "      <th></th>\n",
       "      <th>uri</th>\n",
       "      <th>relation</th>\n",
       "      <th>start</th>\n",
       "      <th>end</th>\n",
       "      <th>weight</th>\n",
       "      <th>dataset</th>\n",
       "      <th>sources</th>\n",
       "      <th>surfaceText</th>\n",
       "      <th>license</th>\n",
       "      <th>context</th>\n",
       "    </tr>\n",
       "  </thead>\n",
       "  <tbody>\n",
       "    <tr>\n",
       "      <th>0</th>\n",
       "      <td>/a/[/r/Antonym/,/c/en/0/n/,/c/en/1/]</td>\n",
       "      <td>/r/Antonym</td>\n",
       "      <td>/c/en/0/n</td>\n",
       "      <td>/c/en/1</td>\n",
       "      <td>{\"dataset\": \"/d/wiktionary/fr\", \"license\": \"cc...</td>\n",
       "      <td>NaN</td>\n",
       "      <td>NaN</td>\n",
       "      <td>NaN</td>\n",
       "      <td>NaN</td>\n",
       "      <td>NaN</td>\n",
       "    </tr>\n",
       "    <tr>\n",
       "      <th>1</th>\n",
       "      <td>/a/[/r/Antonym/,/c/en/12_hour_clock/n/,/c/en/2...</td>\n",
       "      <td>/r/Antonym</td>\n",
       "      <td>/c/en/12_hour_clock/n</td>\n",
       "      <td>/c/en/24_hour_clock</td>\n",
       "      <td>{\"dataset\": \"/d/wiktionary/en\", \"license\": \"cc...</td>\n",
       "      <td>NaN</td>\n",
       "      <td>NaN</td>\n",
       "      <td>NaN</td>\n",
       "      <td>NaN</td>\n",
       "      <td>NaN</td>\n",
       "    </tr>\n",
       "    <tr>\n",
       "      <th>2</th>\n",
       "      <td>/a/[/r/Antonym/,/c/en/24_hour_clock/n/,/c/en/1...</td>\n",
       "      <td>/r/Antonym</td>\n",
       "      <td>/c/en/24_hour_clock/n</td>\n",
       "      <td>/c/en/12_hour_clock</td>\n",
       "      <td>{\"dataset\": \"/d/wiktionary/en\", \"license\": \"cc...</td>\n",
       "      <td>NaN</td>\n",
       "      <td>NaN</td>\n",
       "      <td>NaN</td>\n",
       "      <td>NaN</td>\n",
       "      <td>NaN</td>\n",
       "    </tr>\n",
       "    <tr>\n",
       "      <th>3</th>\n",
       "      <td>/a/[/r/Antonym/,/c/en/5/n/,/c/en/3/]</td>\n",
       "      <td>/r/Antonym</td>\n",
       "      <td>/c/en/5/n</td>\n",
       "      <td>/c/en/3</td>\n",
       "      <td>{\"dataset\": \"/d/wiktionary/en\", \"license\": \"cc...</td>\n",
       "      <td>NaN</td>\n",
       "      <td>NaN</td>\n",
       "      <td>NaN</td>\n",
       "      <td>NaN</td>\n",
       "      <td>NaN</td>\n",
       "    </tr>\n",
       "    <tr>\n",
       "      <th>4</th>\n",
       "      <td>/a/[/r/Antonym/,/c/en/a.c/n/,/c/en/d.c/]</td>\n",
       "      <td>/r/Antonym</td>\n",
       "      <td>/c/en/a.c/n</td>\n",
       "      <td>/c/en/d.c</td>\n",
       "      <td>{\"dataset\": \"/d/wiktionary/fr\", \"license\": \"cc...</td>\n",
       "      <td>NaN</td>\n",
       "      <td>NaN</td>\n",
       "      <td>NaN</td>\n",
       "      <td>NaN</td>\n",
       "      <td>NaN</td>\n",
       "    </tr>\n",
       "  </tbody>\n",
       "</table>\n",
       "</div>"
      ],
      "text/plain": [
       "                                                 uri    relation  \\\n",
       "0               /a/[/r/Antonym/,/c/en/0/n/,/c/en/1/]  /r/Antonym   \n",
       "1  /a/[/r/Antonym/,/c/en/12_hour_clock/n/,/c/en/2...  /r/Antonym   \n",
       "2  /a/[/r/Antonym/,/c/en/24_hour_clock/n/,/c/en/1...  /r/Antonym   \n",
       "3               /a/[/r/Antonym/,/c/en/5/n/,/c/en/3/]  /r/Antonym   \n",
       "4           /a/[/r/Antonym/,/c/en/a.c/n/,/c/en/d.c/]  /r/Antonym   \n",
       "\n",
       "                   start                  end  \\\n",
       "0              /c/en/0/n              /c/en/1   \n",
       "1  /c/en/12_hour_clock/n  /c/en/24_hour_clock   \n",
       "2  /c/en/24_hour_clock/n  /c/en/12_hour_clock   \n",
       "3              /c/en/5/n              /c/en/3   \n",
       "4            /c/en/a.c/n            /c/en/d.c   \n",
       "\n",
       "                                              weight  dataset  sources  \\\n",
       "0  {\"dataset\": \"/d/wiktionary/fr\", \"license\": \"cc...      NaN      NaN   \n",
       "1  {\"dataset\": \"/d/wiktionary/en\", \"license\": \"cc...      NaN      NaN   \n",
       "2  {\"dataset\": \"/d/wiktionary/en\", \"license\": \"cc...      NaN      NaN   \n",
       "3  {\"dataset\": \"/d/wiktionary/en\", \"license\": \"cc...      NaN      NaN   \n",
       "4  {\"dataset\": \"/d/wiktionary/fr\", \"license\": \"cc...      NaN      NaN   \n",
       "\n",
       "   surfaceText  license  context  \n",
       "0          NaN      NaN      NaN  \n",
       "1          NaN      NaN      NaN  \n",
       "2          NaN      NaN      NaN  \n",
       "3          NaN      NaN      NaN  \n",
       "4          NaN      NaN      NaN  "
      ]
     },
     "execution_count": 7,
     "metadata": {},
     "output_type": "execute_result"
    }
   ],
   "source": [
    "english_triples = pd.read_csv(EN_PATH)\n",
    "english_triples.head()"
   ]
  },
  {
   "cell_type": "markdown",
   "id": "ff424404",
   "metadata": {},
   "source": [
    "#### Phase 1.A \n",
    "***\n",
    "Preprocess and prepare the concept data"
   ]
  },
  {
   "cell_type": "code",
   "execution_count": null,
   "id": "dc48b106",
   "metadata": {},
   "outputs": [],
   "source": []
  },
  {
   "cell_type": "code",
   "execution_count": null,
   "id": "551364de",
   "metadata": {},
   "outputs": [
    {
     "data": {
      "application/vnd.microsoft.datawrangler.viewer.v0+json": {
       "columns": [
        {
         "name": "index",
         "rawType": "int64",
         "type": "integer"
        },
        {
         "name": "uri",
         "rawType": "object",
         "type": "string"
        },
        {
         "name": "relation",
         "rawType": "object",
         "type": "string"
        },
        {
         "name": "start",
         "rawType": "object",
         "type": "string"
        },
        {
         "name": "end",
         "rawType": "object",
         "type": "string"
        },
        {
         "name": "weight",
         "rawType": "object",
         "type": "string"
        },
        {
         "name": "dataset",
         "rawType": "float64",
         "type": "float"
        },
        {
         "name": "sources",
         "rawType": "float64",
         "type": "float"
        },
        {
         "name": "surfaceText",
         "rawType": "float64",
         "type": "float"
        },
        {
         "name": "license",
         "rawType": "float64",
         "type": "float"
        },
        {
         "name": "context",
         "rawType": "float64",
         "type": "float"
        },
        {
         "name": "relation_cleaned",
         "rawType": "object",
         "type": "string"
        }
       ],
       "ref": "470a4e25-245a-4052-9527-7c2540fe6fbe",
       "rows": [
        [
         "0",
         "/a/[/r/Antonym/,/c/en/0/n/,/c/en/1/]",
         "/r/Antonym",
         "/c/en/0/n",
         "/c/en/1",
         "{\"dataset\": \"/d/wiktionary/fr\", \"license\": \"cc:by-sa/4.0\", \"sources\": [{\"contributor\": \"/s/resource/wiktionary/fr\", \"process\": \"/s/process/wikiparsec/2\"}], \"weight\": 1.0}",
         null,
         null,
         null,
         null,
         null,
         "Antonym"
        ],
        [
         "1",
         "/a/[/r/Antonym/,/c/en/12_hour_clock/n/,/c/en/24_hour_clock/]",
         "/r/Antonym",
         "/c/en/12_hour_clock/n",
         "/c/en/24_hour_clock",
         "{\"dataset\": \"/d/wiktionary/en\", \"license\": \"cc:by-sa/4.0\", \"sources\": [{\"contributor\": \"/s/resource/wiktionary/en\", \"process\": \"/s/process/wikiparsec/2\"}], \"weight\": 1.0}",
         null,
         null,
         null,
         null,
         null,
         "Antonym"
        ],
        [
         "2",
         "/a/[/r/Antonym/,/c/en/24_hour_clock/n/,/c/en/12_hour_clock/]",
         "/r/Antonym",
         "/c/en/24_hour_clock/n",
         "/c/en/12_hour_clock",
         "{\"dataset\": \"/d/wiktionary/en\", \"license\": \"cc:by-sa/4.0\", \"sources\": [{\"contributor\": \"/s/resource/wiktionary/en\", \"process\": \"/s/process/wikiparsec/2\"}], \"weight\": 1.0}",
         null,
         null,
         null,
         null,
         null,
         "Antonym"
        ],
        [
         "3",
         "/a/[/r/Antonym/,/c/en/5/n/,/c/en/3/]",
         "/r/Antonym",
         "/c/en/5/n",
         "/c/en/3",
         "{\"dataset\": \"/d/wiktionary/en\", \"license\": \"cc:by-sa/4.0\", \"sources\": [{\"contributor\": \"/s/resource/wiktionary/en\", \"process\": \"/s/process/wikiparsec/2\"}], \"weight\": 1.0}",
         null,
         null,
         null,
         null,
         null,
         "Antonym"
        ],
        [
         "4",
         "/a/[/r/Antonym/,/c/en/a.c/n/,/c/en/d.c/]",
         "/r/Antonym",
         "/c/en/a.c/n",
         "/c/en/d.c",
         "{\"dataset\": \"/d/wiktionary/fr\", \"license\": \"cc:by-sa/4.0\", \"sources\": [{\"contributor\": \"/s/resource/wiktionary/fr\", \"process\": \"/s/process/wikiparsec/2\"}], \"weight\": 1.0}",
         null,
         null,
         null,
         null,
         null,
         "Antonym"
        ]
       ],
       "shape": {
        "columns": 11,
        "rows": 5
       }
      },
      "text/html": [
       "<div>\n",
       "<style scoped>\n",
       "    .dataframe tbody tr th:only-of-type {\n",
       "        vertical-align: middle;\n",
       "    }\n",
       "\n",
       "    .dataframe tbody tr th {\n",
       "        vertical-align: top;\n",
       "    }\n",
       "\n",
       "    .dataframe thead th {\n",
       "        text-align: right;\n",
       "    }\n",
       "</style>\n",
       "<table border=\"1\" class=\"dataframe\">\n",
       "  <thead>\n",
       "    <tr style=\"text-align: right;\">\n",
       "      <th></th>\n",
       "      <th>uri</th>\n",
       "      <th>relation</th>\n",
       "      <th>start</th>\n",
       "      <th>end</th>\n",
       "      <th>weight</th>\n",
       "      <th>dataset</th>\n",
       "      <th>sources</th>\n",
       "      <th>surfaceText</th>\n",
       "      <th>license</th>\n",
       "      <th>context</th>\n",
       "      <th>relation_cleaned</th>\n",
       "    </tr>\n",
       "  </thead>\n",
       "  <tbody>\n",
       "    <tr>\n",
       "      <th>0</th>\n",
       "      <td>/a/[/r/Antonym/,/c/en/0/n/,/c/en/1/]</td>\n",
       "      <td>/r/Antonym</td>\n",
       "      <td>/c/en/0/n</td>\n",
       "      <td>/c/en/1</td>\n",
       "      <td>{\"dataset\": \"/d/wiktionary/fr\", \"license\": \"cc...</td>\n",
       "      <td>NaN</td>\n",
       "      <td>NaN</td>\n",
       "      <td>NaN</td>\n",
       "      <td>NaN</td>\n",
       "      <td>NaN</td>\n",
       "      <td>Antonym</td>\n",
       "    </tr>\n",
       "    <tr>\n",
       "      <th>1</th>\n",
       "      <td>/a/[/r/Antonym/,/c/en/12_hour_clock/n/,/c/en/2...</td>\n",
       "      <td>/r/Antonym</td>\n",
       "      <td>/c/en/12_hour_clock/n</td>\n",
       "      <td>/c/en/24_hour_clock</td>\n",
       "      <td>{\"dataset\": \"/d/wiktionary/en\", \"license\": \"cc...</td>\n",
       "      <td>NaN</td>\n",
       "      <td>NaN</td>\n",
       "      <td>NaN</td>\n",
       "      <td>NaN</td>\n",
       "      <td>NaN</td>\n",
       "      <td>Antonym</td>\n",
       "    </tr>\n",
       "    <tr>\n",
       "      <th>2</th>\n",
       "      <td>/a/[/r/Antonym/,/c/en/24_hour_clock/n/,/c/en/1...</td>\n",
       "      <td>/r/Antonym</td>\n",
       "      <td>/c/en/24_hour_clock/n</td>\n",
       "      <td>/c/en/12_hour_clock</td>\n",
       "      <td>{\"dataset\": \"/d/wiktionary/en\", \"license\": \"cc...</td>\n",
       "      <td>NaN</td>\n",
       "      <td>NaN</td>\n",
       "      <td>NaN</td>\n",
       "      <td>NaN</td>\n",
       "      <td>NaN</td>\n",
       "      <td>Antonym</td>\n",
       "    </tr>\n",
       "    <tr>\n",
       "      <th>3</th>\n",
       "      <td>/a/[/r/Antonym/,/c/en/5/n/,/c/en/3/]</td>\n",
       "      <td>/r/Antonym</td>\n",
       "      <td>/c/en/5/n</td>\n",
       "      <td>/c/en/3</td>\n",
       "      <td>{\"dataset\": \"/d/wiktionary/en\", \"license\": \"cc...</td>\n",
       "      <td>NaN</td>\n",
       "      <td>NaN</td>\n",
       "      <td>NaN</td>\n",
       "      <td>NaN</td>\n",
       "      <td>NaN</td>\n",
       "      <td>Antonym</td>\n",
       "    </tr>\n",
       "    <tr>\n",
       "      <th>4</th>\n",
       "      <td>/a/[/r/Antonym/,/c/en/a.c/n/,/c/en/d.c/]</td>\n",
       "      <td>/r/Antonym</td>\n",
       "      <td>/c/en/a.c/n</td>\n",
       "      <td>/c/en/d.c</td>\n",
       "      <td>{\"dataset\": \"/d/wiktionary/fr\", \"license\": \"cc...</td>\n",
       "      <td>NaN</td>\n",
       "      <td>NaN</td>\n",
       "      <td>NaN</td>\n",
       "      <td>NaN</td>\n",
       "      <td>NaN</td>\n",
       "      <td>Antonym</td>\n",
       "    </tr>\n",
       "  </tbody>\n",
       "</table>\n",
       "</div>"
      ],
      "text/plain": [
       "                                                 uri    relation  \\\n",
       "0               /a/[/r/Antonym/,/c/en/0/n/,/c/en/1/]  /r/Antonym   \n",
       "1  /a/[/r/Antonym/,/c/en/12_hour_clock/n/,/c/en/2...  /r/Antonym   \n",
       "2  /a/[/r/Antonym/,/c/en/24_hour_clock/n/,/c/en/1...  /r/Antonym   \n",
       "3               /a/[/r/Antonym/,/c/en/5/n/,/c/en/3/]  /r/Antonym   \n",
       "4           /a/[/r/Antonym/,/c/en/a.c/n/,/c/en/d.c/]  /r/Antonym   \n",
       "\n",
       "                   start                  end  \\\n",
       "0              /c/en/0/n              /c/en/1   \n",
       "1  /c/en/12_hour_clock/n  /c/en/24_hour_clock   \n",
       "2  /c/en/24_hour_clock/n  /c/en/12_hour_clock   \n",
       "3              /c/en/5/n              /c/en/3   \n",
       "4            /c/en/a.c/n            /c/en/d.c   \n",
       "\n",
       "                                              weight  dataset  sources  \\\n",
       "0  {\"dataset\": \"/d/wiktionary/fr\", \"license\": \"cc...      NaN      NaN   \n",
       "1  {\"dataset\": \"/d/wiktionary/en\", \"license\": \"cc...      NaN      NaN   \n",
       "2  {\"dataset\": \"/d/wiktionary/en\", \"license\": \"cc...      NaN      NaN   \n",
       "3  {\"dataset\": \"/d/wiktionary/en\", \"license\": \"cc...      NaN      NaN   \n",
       "4  {\"dataset\": \"/d/wiktionary/fr\", \"license\": \"cc...      NaN      NaN   \n",
       "\n",
       "   surfaceText  license  context relation_cleaned  \n",
       "0          NaN      NaN      NaN          Antonym  \n",
       "1          NaN      NaN      NaN          Antonym  \n",
       "2          NaN      NaN      NaN          Antonym  \n",
       "3          NaN      NaN      NaN          Antonym  \n",
       "4          NaN      NaN      NaN          Antonym  "
      ]
     },
     "execution_count": 9,
     "metadata": {},
     "output_type": "execute_result"
    }
   ],
   "source": [
    "def clean_column(df, col):\n",
    "    col_string = df[col].astype(str)\n",
    "    col_string = col_string.str.split('/')\n",
    "    col_string = col_string.str[-1]\n",
    "    df[f'{col}_cleaned'] = col_string\n",
    "    return df\n",
    "\n",
    "def preprocess_data(df):\n",
    "    df_copy = df.copy()\n",
    "    for col in ['relation', 'start', 'end']:\n",
    "        df_copy = clean_column(df_copy, col)\n",
    "    return df_copy\n",
    "\n",
    "cleaned_english_triples = preprocess_data(english_triples.head())\n",
    "cleaned_english_triples"
   ]
  },
  {
   "cell_type": "markdown",
   "id": "e3d88c8a",
   "metadata": {},
   "source": [
    "# Phase 2. Seed the agent with random english relations\n",
    "***"
   ]
  },
  {
   "cell_type": "code",
   "execution_count": null,
   "id": "41eded98",
   "metadata": {},
   "outputs": [],
   "source": []
  }
 ],
 "metadata": {
  "kernelspec": {
   "display_name": ".venv",
   "language": "python",
   "name": "python3"
  },
  "language_info": {
   "codemirror_mode": {
    "name": "ipython",
    "version": 3
   },
   "file_extension": ".py",
   "mimetype": "text/x-python",
   "name": "python",
   "nbconvert_exporter": "python",
   "pygments_lexer": "ipython3",
   "version": "3.13.3"
  }
 },
 "nbformat": 4,
 "nbformat_minor": 5
}
